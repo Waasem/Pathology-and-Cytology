{
 "cells": [
  {
   "cell_type": "code",
   "execution_count": null,
   "metadata": {},
   "outputs": [
    {
     "name": "stdout",
     "output_type": "stream",
     "text": [
      "(8, 7, 7, 2048)\n"
     ]
    }
   ],
   "source": [
    "# load and visualize embeddings\n",
    "# Load npz file\n",
    "import numpy as np\n",
    "data = np.load('embedd.npy')\n",
    "\n",
    "# List all arrays\n",
    "print(data.shape)\n",
    "\n",
    "#"
   ]
  },
  {
   "cell_type": "code",
   "execution_count": 1,
   "metadata": {},
   "outputs": [],
   "source": [
    "from path_preprocess import main\n",
    "\n",
    "# List of files to process\n",
    "files_to_process = ['./data/mcc0001-slides001']\n",
    "\n",
    "# Process each file\n",
    "for file in files_to_process:\n",
    "    main(file)"
   ]
  },
  {
   "cell_type": "code",
   "execution_count": null,
   "metadata": {},
   "outputs": [],
   "source": []
  }
 ],
 "metadata": {
  "kernelspec": {
   "display_name": "path-cyt-p310",
   "language": "python",
   "name": "python3"
  },
  "language_info": {
   "codemirror_mode": {
    "name": "ipython",
    "version": 3
   },
   "file_extension": ".py",
   "mimetype": "text/x-python",
   "name": "python",
   "nbconvert_exporter": "python",
   "pygments_lexer": "ipython3",
   "version": "3.10.13"
  }
 },
 "nbformat": 4,
 "nbformat_minor": 2
}
