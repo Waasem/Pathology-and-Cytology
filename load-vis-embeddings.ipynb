{
 "cells": [
  {
   "cell_type": "code",
   "execution_count": null,
   "metadata": {},
   "outputs": [],
   "source": [
    "# load and visualize embeddings\n",
    "# Load npz file\n",
    "import numpy as np\n",
    "data = np.load('file.npz')\n",
    "\n",
    "# List all arrays\n",
    "print(data.files)\n",
    "\n",
    "# Access arrays\n",
    "for file in data.files:\n",
    "    print(data[file])"
   ]
  }
 ],
 "metadata": {
  "language_info": {
   "name": "python"
  }
 },
 "nbformat": 4,
 "nbformat_minor": 2
}
